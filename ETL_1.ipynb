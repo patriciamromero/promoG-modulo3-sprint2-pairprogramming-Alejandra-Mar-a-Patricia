{
 "cells": [
  {
   "cell_type": "code",
   "execution_count": 1,
   "metadata": {},
   "outputs": [],
   "source": [
    "\n",
    "# importamos las librerías que necesitamos\n",
    "\n",
    "# Tratamiento de datos\n",
    "# -----------------------------------------------------------------------\n",
    "import pandas as pd\n",
    "import numpy as np\n",
    "\n",
    "# Visualización\n",
    "# ------------------------------------------------------------------------------\n",
    "import matplotlib.pyplot as plt\n",
    "import seaborn as sns\n",
    "\n",
    "# Evaluar linealidad de las relaciones entre las variables\n",
    "# y la distribución de las variables\n",
    "# ------------------------------------------------------------------------------\n",
    "import scipy.stats as stats\n",
    "from scipy.stats import ttest_ind, norm, chi2_contingency, f_oneway\n",
    "\n",
    "# Configuración\n",
    "# -----------------------------------------------------------------------\n",
    "pd.set_option('display.max_columns', None) # para poder visualizar todas las columnas de los DataFrames\n",
    "\n",
    "# Gestión de los warnings\n",
    "# -----------------------------------------------------------------------\n",
    "import warnings\n",
    "warnings.filterwarnings(\"ignore\")"
   ]
  },
  {
   "cell_type": "markdown",
   "metadata": {},
   "source": [
    "## ETL"
   ]
  },
  {
   "cell_type": "markdown",
   "metadata": {},
   "source": [
    "En este caso trabajas en una empresa de venta al por menor de productos italianos y debes realizar la limpieza, transformación e integración de datos de ventas, productos y clientes para su análisis."
   ]
  },
  {
   "cell_type": "markdown",
   "metadata": {},
   "source": [
    "1. Lectura de la Información:\n",
    "\n",
    "    - Leer los archivos CSV (ventas.csv, productos.csv, clientes.csv).\n",
    "\n",
    "    - Explorar los conjuntos de datos para comprender su estructura, columnas, tipos de datos, etc."
   ]
  },
  {
   "cell_type": "markdown",
   "metadata": {},
   "source": [
    "2. Transformación de Datos:\n",
    "\n",
    "    - Limpiar los datos: manejar valores nulos, eliminar duplicados si los hay, corregir errores tipográficos, etc.\n",
    "\n",
    "    - Realizar la integración de datos: unir los conjuntos de datos apropiados para obtener una tabla única que contenga información de ventas junto con detalles de productos y clientes.\n",
    "\n",
    "    - Aplicar transformaciones relevantes según sea necesario: por ejemplo, convertir tipos de datos, renombrar columnas, crear nuevas características derivadas, etc."
   ]
  },
  {
   "cell_type": "code",
   "execution_count": 2,
   "metadata": {},
   "outputs": [],
   "source": [
    "with open(\"files/productos.csv\", 'r') as file:\n",
    "\n",
    "    lines = file.readlines()"
   ]
  },
  {
   "cell_type": "code",
   "execution_count": 13,
   "metadata": {},
   "outputs": [
    {
     "name": "stdout",
     "output_type": "stream",
     "text": [
      "H8,Pesto Genovese,Salsas,5.99,Italia,Una salsa italiana de albahaca, piñones, queso parmesano y aceite de oliva, perfecta para pastas.\n",
      "\n"
     ]
    }
   ],
   "source": [
    "print(lines[8])"
   ]
  },
  {
   "cell_type": "code",
   "execution_count": 38,
   "metadata": {},
   "outputs": [],
   "source": [
    "## revisar:\n",
    "def unificar(lines):\n",
    "    for line in lines:\n",
    "        split = line.split(\",\")\n",
    "        join = \",\".join(split[5:])\n",
    "        all = split[0:5]\n",
    "        all.append(join)\n",
    "        print(all)\n",
    "        #df_all = pd.DataFrame(all)\n",
    "        #return df_all.to_csv(\"files/productos1.csv\")"
   ]
  },
  {
   "cell_type": "code",
   "execution_count": 39,
   "metadata": {},
   "outputs": [
    {
     "name": "stdout",
     "output_type": "stream",
     "text": [
      "['ID', 'Nombre_Producto', 'Categoría', 'Precio', 'Origen', 'Descripción\\n']\n",
      "['A1', 'Pizza Margherita', 'Platos Preparados', '8.99', 'Italia', 'Clásica pizza italiana con tomate, mozzarella fresca y albahaca.\\n']\n",
      "['B2', 'Risotto de Champiñones', 'Platos Preparados', '6.75', 'Italia', 'Risotto cremoso con champiñones frescos, una delicia italiana para disfrutar en casa.\\n']\n",
      "['C3', 'Tiramisú', 'Postres', '5.49', 'Italia', 'Postre clásico italiano con capas de bizcocho de café, mascarpone y cacao en polvo.\\n']\n",
      "['D4', 'Panettone', 'Repostería', '10.99', 'Italia', 'Pan dulce navideño italiano con frutas confitadas y pasas, un regalo tradicional en Italia.\\n']\n",
      "['E5', 'Orecchiette', 'Productos Secos', '4.29', 'Italia', 'Pequeñas pastas con forma de orecchiette ideales para salsas de tomate o pesto.\\n']\n",
      "['F6', 'Polenta Tradicional', 'Harinas', '3.75', 'Italia', 'Harina de maíz italiana para preparar la tradicional polenta, perfecta como acompañamiento.\\n']\n",
      "['G7', 'Mozzarella di Bufala', 'Productos Lácteos', '9.25', 'Italia', 'Mozzarella fresca elaborada con leche de búfala, suave y deliciosamente cremosa.\\n']\n",
      "['H8', 'Pesto Genovese', 'Salsas', '5.99', 'Italia', 'Una salsa italiana de albahaca, piñones, queso parmesano y aceite de oliva, perfecta para pastas.\\n']\n",
      "['I9', 'Lasagna Bolognesa', 'Platos Preparados', '7.49', 'Italia', 'Clásica lasaña con salsa boloñesa, bechamel y queso gratinado, lista para hornear.\\n']\n",
      "['J10', 'Arroz Arborio', 'Productos Secos', '4.89', 'Italia', 'Arroz de grano corto perfecto para risottos italianos, absorbe los sabores de forma exquisita.\\n']\n",
      "['K11', 'Café Espresso', ' Café', '6.49', 'Italia', 'Café espresso italiano con un aroma y sabor intenso, la esencia de la cultura del café en Italia.\\n']\n",
      "['L12', 'Sardinas en Aceite de Oliva', 'Pescados en Conserva', '3.99', 'Italia', 'Sardinas frescas en aceite de oliva, un bocado delicioso y saludable.\\n']\n",
      "['M13', 'Pesto Rosso', 'Salsas', '4.75', 'Italia', 'Una variante italiana del pesto con tomates secos, almendras y queso parmesano, perfecto para pastas.\\n']\n",
      "['N14', 'Gnocchi de Patata', 'Productos Congelados', '5.25', 'Italia', 'Gnocchi de patata italiana, ideales con salsa de tomate o crema.\\n']\n",
      "['O15', 'Ravioli de Ricotta y Espinacas', 'Productos Congelados', '6.75', 'Italia', 'Raviolis rellenos de ricotta y espinacas frescas, simplemente deliciosos.\\n']\n",
      "['P16', 'Caponata', 'Salsas', '4.25', 'Italia', 'Una clásica caponata siciliana con berenjenas, tomates, aceitunas y vinagre balsámico.\\n']\n",
      "['Q17', 'Pasta de Trigo', 'Productos Secos', '3.99', 'Italia', 'Deliciosa pasta de trigo durum italiana, ideal para platos de pasta tradicionales.\\n']\n",
      "['R18', 'Salsa de Tomate Casera', 'Salsas', '2.49', 'Italia', 'Elaborada con tomates italianos maduros, una receta tradicional que realza el sabor de tus platos.\\n']\n",
      "['S19', 'Aceite de Oliva Virgen Extra', 'Aceites', '9.99', 'Italia', 'Aceite de oliva prensado en frío de las mejores aceitunas italianas, perfecto para aderezos y cocinar.\\n']\n",
      "['T20', 'Queso Parmesano', 'Productos Lácteos', '7.89', 'Italia', 'El famoso queso italiano, madurado durante meses para obtener su sabor único y rico.\\n']\n",
      "['U21', 'Salami Toscano', 'Embutidos', '5.75', 'Italia', 'Salami de cerdo italiano curado con hierbas y especias, un acompañamiento perfecto para tablas de embutidos.\\n']\n",
      "['V22', 'Prosciutto di Parma', 'Embutidos', '12.45', 'Italia', 'Delicioso jamón curado, famoso por su sabor y textura, elaborado en la región de Parma.\\n']\n",
      "['W23', 'Gelato de Limón', 'Helados', '4.25', 'Italia', 'Gelato italiano cremoso con sabor a limón fresco, un postre refrescante y delicioso.\\n']\n",
      "['X24', 'Cannoli', 'Dulces', '3.99', 'Italia', 'Postre siciliano con masa crujiente rellena de crema de ricotta y chocolate, una delicia tradicional.\\n']\n",
      "['Y25', 'Cacciatore', 'Embutidos', '6.75', 'Italia', 'Salchichas de cerdo condimentadas con hierbas y especias, perfectas para aperitivos.\\n']\n",
      "['Z26', 'Calzone', 'Pizzas', '7.49', 'Italia', 'Pizza cerrada y horneada, rellena de queso, salsa de tomate y diferentes ingredientes, ¡un clásico italiano!\\n']\n",
      "['AA27', 'Caponata di Melanzane', 'Entrantes', '4.89', 'Italia', 'Entrante italiano con berenjenas, tomate, apio, alcaparras y vinagre, una mezcla de sabores.\\n']\n",
      "['BB28', 'Cappelletti', 'Productos Secos', '5.25', 'Italia', 'Pasta rellena parecida al ravioli, típica de la región de Emilia-Romaña, rellena de carne o queso.\\n']\n",
      "['CC29', 'Carbonara', 'Platos Preparados', '8.75', 'Italia', 'Pasta con salsa de huevo, queso, panceta y pimienta negra, una receta clásica de Roma.\\n']\n",
      "['DD30', 'Carciofi Ripieni', 'Verduras', '6.99', 'Italia', 'Alcachofas rellenas con pan rallado, ajo, perejil y queso, una delicia vegetariana.\\n']\n",
      "['EE31', 'Casatiello', 'Repostería', '9.45', 'Italia', 'Pan salado italiano con huevos, salami, queso y pimienta negra, típico de la Semana Santa.\\n']\n",
      "['FF32', 'Cassata Siciliana', 'Postres', '10.99', 'Italia', 'Tarta siciliana con capas de bizcocho, ricotta, frutas confitadas y chocolate, un postre festivo.\\n']\n",
      "['GG33', 'Ciceri e Tria', 'Platos Preparados', '5.89', 'Italia', 'Plato de pasta tradicional de Apulia con garbanzos y tria (fideos fritos), una combinación única.\\n']\n",
      "['\\n', '']\n"
     ]
    }
   ],
   "source": [
    "unificar(lines)"
   ]
  },
  {
   "cell_type": "code",
   "execution_count": 28,
   "metadata": {},
   "outputs": [
    {
     "name": "stdout",
     "output_type": "stream",
     "text": [
      "['H8', 'Pesto Genovese', 'Salsas', '5.99', 'Italia', 'Una salsa italiana de albahaca, piñones, queso parmesano y aceite de oliva, perfecta para pastas.\\n']\n"
     ]
    }
   ],
   "source": [
    "split = lines[8].split(\",\")\n",
    "join = \",\".join(split[5:])\n",
    "all = split[0:5]\n",
    "all.append(join)\n",
    "print(all)\n"
   ]
  },
  {
   "cell_type": "code",
   "execution_count": 104,
   "metadata": {},
   "outputs": [],
   "source": [
    "customer = pd.read_csv(\"files/clientes.csv\").reset_index(inplace = True)\n",
    "sales = customer = pd.read_csv(\"files/ventas.csv\", index_col = 0)\n",
    "items = pd.read_csv(\"files/productos.csv\", index_col = 0, error_bad_lines=False, warn_bad_lines=False)\n",
    "\n"
   ]
  },
  {
   "cell_type": "code",
   "execution_count": 109,
   "metadata": {},
   "outputs": [],
   "source": [
    "def apertura_fichero(ruta):\n",
    "    csv = pd.read_csv(ruta)\n",
    "    return csv.reset_index(inplace = True)\n"
   ]
  },
  {
   "cell_type": "code",
   "execution_count": 110,
   "metadata": {},
   "outputs": [],
   "source": [
    "apertura_fichero(\"files/clientes.csv\")"
   ]
  },
  {
   "cell_type": "code",
   "execution_count": 107,
   "metadata": {},
   "outputs": [],
   "source": [
    "# se puede revisar y mejorar\n",
    "def exploracion_datos(csv):\n",
    "    forma = csv.shape\n",
    "    print(f\"La forma es {forma}\")\n",
    "    print(\"_______________\")\n",
    "    nulos = csv.isna().sum()\n",
    "    print(f\"Los nulos son: {nulos}\")\n",
    "    print(\"_______________\")\n",
    "    duplicados = csv.duplicated().sum()\n",
    "    print(f\"Hay {duplicados} duplicados\")\n",
    "    print(\"_______________\")\n",
    "    tipo_dato = csv.dtypes\n",
    "    print(f\"Los datos son de tipo {tipo_dato}\")\n",
    "    print(\"_______________\")\n",
    "    columnas = csv.columns\n",
    "    print(f\"Las columnas son {columnas}\")\n",
    "    print(\"_______________\")\n",
    "    print(csv.head())\n",
    "    \n",
    "\n",
    "    \n"
   ]
  },
  {
   "cell_type": "code",
   "execution_count": 108,
   "metadata": {},
   "outputs": [
    {
     "name": "stdout",
     "output_type": "stream",
     "text": [
      "La forma es (100, 6)\n",
      "_______________\n",
      "Los nulos son: index          0\n",
      "ID_Cliente     0\n",
      "ID_Producto    0\n",
      "Fecha_Venta    0\n",
      "Cantidad       0\n",
      "Total          0\n",
      "dtype: int64\n",
      "_______________\n",
      "Hay 0 duplicados\n",
      "_______________\n",
      "Los datos son de tipo index            int64\n",
      "ID_Cliente       int64\n",
      "ID_Producto     object\n",
      "Fecha_Venta     object\n",
      "Cantidad         int64\n",
      "Total          float64\n",
      "dtype: object\n",
      "_______________\n",
      "Las columnas son Index(['index', 'ID_Cliente', 'ID_Producto', 'Fecha_Venta', 'Cantidad',\n",
      "       'Total'],\n",
      "      dtype='object')\n",
      "_______________\n",
      "   index  ID_Cliente ID_Producto Fecha_Venta  Cantidad  Total\n",
      "0      0         723          A1  2023-11-22         2  17.98\n",
      "1      1         498          C3  2023-11-21         1   5.49\n",
      "2      2         121          D4  2023-11-20         3  32.97\n",
      "3      3         885         L12  2023-11-19         1   6.49\n",
      "4      4         347         Q17  2023-11-18         2   7.98\n"
     ]
    }
   ],
   "source": [
    "exploracion_datos(customer)"
   ]
  },
  {
   "cell_type": "code",
   "execution_count": 106,
   "metadata": {},
   "outputs": [],
   "source": [
    "customer.reset_index(inplace = True)"
   ]
  },
  {
   "cell_type": "code",
   "execution_count": 105,
   "metadata": {},
   "outputs": [
    {
     "data": {
      "text/html": [
       "<div>\n",
       "<style scoped>\n",
       "    .dataframe tbody tr th:only-of-type {\n",
       "        vertical-align: middle;\n",
       "    }\n",
       "\n",
       "    .dataframe tbody tr th {\n",
       "        vertical-align: top;\n",
       "    }\n",
       "\n",
       "    .dataframe thead th {\n",
       "        text-align: right;\n",
       "    }\n",
       "</style>\n",
       "<table border=\"1\" class=\"dataframe\">\n",
       "  <thead>\n",
       "    <tr style=\"text-align: right;\">\n",
       "      <th></th>\n",
       "      <th>ID_Producto</th>\n",
       "      <th>Fecha_Venta</th>\n",
       "      <th>Cantidad</th>\n",
       "      <th>Total</th>\n",
       "    </tr>\n",
       "    <tr>\n",
       "      <th>ID_Cliente</th>\n",
       "      <th></th>\n",
       "      <th></th>\n",
       "      <th></th>\n",
       "      <th></th>\n",
       "    </tr>\n",
       "  </thead>\n",
       "  <tbody>\n",
       "    <tr>\n",
       "      <th>723</th>\n",
       "      <td>A1</td>\n",
       "      <td>2023-11-22</td>\n",
       "      <td>2</td>\n",
       "      <td>17.98</td>\n",
       "    </tr>\n",
       "    <tr>\n",
       "      <th>498</th>\n",
       "      <td>C3</td>\n",
       "      <td>2023-11-21</td>\n",
       "      <td>1</td>\n",
       "      <td>5.49</td>\n",
       "    </tr>\n",
       "    <tr>\n",
       "      <th>121</th>\n",
       "      <td>D4</td>\n",
       "      <td>2023-11-20</td>\n",
       "      <td>3</td>\n",
       "      <td>32.97</td>\n",
       "    </tr>\n",
       "    <tr>\n",
       "      <th>885</th>\n",
       "      <td>L12</td>\n",
       "      <td>2023-11-19</td>\n",
       "      <td>1</td>\n",
       "      <td>6.49</td>\n",
       "    </tr>\n",
       "    <tr>\n",
       "      <th>347</th>\n",
       "      <td>Q17</td>\n",
       "      <td>2023-11-18</td>\n",
       "      <td>2</td>\n",
       "      <td>7.98</td>\n",
       "    </tr>\n",
       "  </tbody>\n",
       "</table>\n",
       "</div>"
      ],
      "text/plain": [
       "           ID_Producto Fecha_Venta  Cantidad  Total\n",
       "ID_Cliente                                         \n",
       "723                 A1  2023-11-22         2  17.98\n",
       "498                 C3  2023-11-21         1   5.49\n",
       "121                 D4  2023-11-20         3  32.97\n",
       "885                L12  2023-11-19         1   6.49\n",
       "347                Q17  2023-11-18         2   7.98"
      ]
     },
     "execution_count": 105,
     "metadata": {},
     "output_type": "execute_result"
    }
   ],
   "source": [
    "customer.head()"
   ]
  },
  {
   "cell_type": "code",
   "execution_count": 81,
   "metadata": {},
   "outputs": [
    {
     "name": "stdout",
     "output_type": "stream",
     "text": [
      "La forma es (21, 6)\n",
      "_______________\n",
      "Los nulos son: ID                 0\n",
      "Nombre_Producto    0\n",
      "Categoría          0\n",
      "Precio             0\n",
      "Origen             0\n",
      "Descripción        1\n",
      "dtype: int64\n",
      "_______________\n",
      "Hay 0 duplicados\n",
      "_______________\n",
      "Los datos son de tipo ID                  object\n",
      "Nombre_Producto     object\n",
      "Categoría          float64\n",
      "Precio              object\n",
      "Origen              object\n",
      "Descripción         object\n",
      "dtype: object\n",
      "_______________\n",
      "Las columnas son Index(['ID', 'Nombre_Producto', 'Categoría', 'Precio', 'Origen',\n",
      "       'Descripción'],\n",
      "      dtype='object')\n",
      "_______________\n",
      "                        ID    Nombre_Producto  Categoría  Precio  \\\n",
      "A1        Pizza Margherita  Platos Preparados       8.99  Italia   \n",
      "B2  Risotto de Champiñones  Platos Preparados       6.75  Italia   \n",
      "C3                Tiramisú            Postres       5.49  Italia   \n",
      "D4               Panettone         Repostería      10.99  Italia   \n",
      "E5             Orecchiette    Productos Secos       4.29  Italia   \n",
      "\n",
      "                                               Origen  \\\n",
      "A1                  Clásica pizza italiana con tomate   \n",
      "B2            Risotto cremoso con champiñones frescos   \n",
      "C3  Postre clásico italiano con capas de bizcocho ...   \n",
      "D4  Pan dulce navideño italiano con frutas confita...   \n",
      "E5  Pequeñas pastas con forma de orecchiette ideal...   \n",
      "\n",
      "                                      Descripción  \n",
      "A1                  mozzarella fresca y albahaca.  \n",
      "B2   una delicia italiana para disfrutar en casa.  \n",
      "C3                   mascarpone y cacao en polvo.  \n",
      "D4               un regalo tradicional en Italia.  \n",
      "E5                                            NaN  \n"
     ]
    }
   ],
   "source": [
    "exploracion_datos(items)"
   ]
  },
  {
   "cell_type": "code",
   "execution_count": 70,
   "metadata": {},
   "outputs": [
    {
     "name": "stdout",
     "output_type": "stream",
     "text": [
      "La forma es (100, 4)\n",
      "_______________\n",
      "Los nulos son: ID_Producto    0\n",
      "Fecha_Venta    0\n",
      "Cantidad       0\n",
      "Total          0\n",
      "dtype: int64\n",
      "_______________\n",
      "Hay 0 duplicados\n",
      "_______________\n",
      "Los datos son de tipo ID_Producto     object\n",
      "Fecha_Venta     object\n",
      "Cantidad         int64\n",
      "Total          float64\n",
      "dtype: object\n",
      "_______________\n",
      "Las columnas son Index(['ID_Producto', 'Fecha_Venta', 'Cantidad', 'Total'], dtype='object')\n"
     ]
    }
   ],
   "source": [
    "exploracion_datos(sales)"
   ]
  }
 ],
 "metadata": {
  "kernelspec": {
   "display_name": "base",
   "language": "python",
   "name": "python3"
  },
  "language_info": {
   "codemirror_mode": {
    "name": "ipython",
    "version": 3
   },
   "file_extension": ".py",
   "mimetype": "text/x-python",
   "name": "python",
   "nbconvert_exporter": "python",
   "pygments_lexer": "ipython3",
   "version": "3.9.7"
  }
 },
 "nbformat": 4,
 "nbformat_minor": 2
}
